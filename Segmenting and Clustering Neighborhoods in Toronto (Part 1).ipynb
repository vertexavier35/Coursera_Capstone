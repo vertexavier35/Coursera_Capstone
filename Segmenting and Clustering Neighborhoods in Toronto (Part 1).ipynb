{
 "cells": [
  {
   "cell_type": "markdown",
   "metadata": {},
   "source": [
    "Code for importing the table from Wikipedia, data cleansing and presentation"
   ]
  },
  {
   "cell_type": "code",
   "execution_count": 32,
   "metadata": {},
   "outputs": [
    {
     "name": "stdout",
     "output_type": "stream",
     "text": [
      "                Borough                                     Neighborhood\n",
      "Postalcode                                                              \n",
      "M1B         Scarborough                                   Malvern, Rouge\n",
      "M1C         Scarborough           Rouge Hill, Port Union, Highland Creek\n",
      "M1E         Scarborough                Guildwood, Morningside, West Hill\n",
      "M1G         Scarborough                                           Woburn\n",
      "M1H         Scarborough                                        Cedarbrae\n",
      "M1J         Scarborough                              Scarborough Village\n",
      "M1K         Scarborough      Kennedy Park, Ionview, East Birchmount Park\n",
      "M1L         Scarborough                  Golden Mile, Clairlea, Oakridge\n",
      "M1M         Scarborough  Cliffside, Cliffcrest, Scarborough Village West\n",
      "M1N         Scarborough                      Birch Cliff, Cliffside West\n",
      "\n",
      "\n",
      "This dataframe is 103 long\n"
     ]
    }
   ],
   "source": [
    "# Library imports\n",
    "import pandas as pd\n",
    "import requests\n",
    "from bs4 import BeautifulSoup\n",
    "import matplotlib.cm as cm \n",
    "import matplotlib.colors as colors\n",
    "import numpy as np\n",
    "import folium\n",
    "\n",
    "#Web scrapping\n",
    "res = requests.get(\"https://en.wikipedia.org/wiki/List_of_postal_codes_of_Canada:_M\")\n",
    "soup = BeautifulSoup(res.content,'lxml')\n",
    "table = soup.find_all('table')[0] \n",
    "df = pd.read_html(str(table))[0]\n",
    "\n",
    "#Drop nan values\n",
    "df.dropna(subset = ['Neighborhood'], inplace = True)\n",
    "\n",
    "#Replace / by ,\n",
    "df['Neighborhood'] = df['Neighborhood'].str.replace(\" /\", \",\")\n",
    "\n",
    "#Setup index values\n",
    "df.sort_values(by=['Postalcode'], ascending=True, inplace=True)\n",
    "df.set_index('Postalcode', inplace = True)\n",
    "\n",
    "print(df.head(10))\n",
    "print('\\n')\n",
    "print((\"This dataframe is {} long\").format(df.shape[0]))"
   ]
  }
 ],
 "metadata": {
  "kernelspec": {
   "display_name": "Python 3",
   "language": "python",
   "name": "python3"
  },
  "language_info": {
   "codemirror_mode": {
    "name": "ipython",
    "version": 3
   },
   "file_extension": ".py",
   "mimetype": "text/x-python",
   "name": "python",
   "nbconvert_exporter": "python",
   "pygments_lexer": "ipython3",
   "version": "3.7.6"
  }
 },
 "nbformat": 4,
 "nbformat_minor": 4
}

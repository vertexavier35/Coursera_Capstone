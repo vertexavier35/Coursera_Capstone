{
 "cells": [
  {
   "cell_type": "markdown",
   "metadata": {},
   "source": [
    "Code for importing the table from Wikipedia, data cleansing and presentation"
   ]
  },
  {
   "cell_type": "code",
   "execution_count": 32,
   "metadata": {},
   "outputs": [
    {
     "name": "stdout",
     "output_type": "stream",
     "text": [
      "                Borough                                     Neighborhood\n",
      "Postalcode                                                              \n",
      "M1B         Scarborough                                   Malvern, Rouge\n",
      "M1C         Scarborough           Rouge Hill, Port Union, Highland Creek\n",
      "M1E         Scarborough                Guildwood, Morningside, West Hill\n",
      "M1G         Scarborough                                           Woburn\n",
      "M1H         Scarborough                                        Cedarbrae\n",
      "M1J         Scarborough                              Scarborough Village\n",
      "M1K         Scarborough      Kennedy Park, Ionview, East Birchmount Park\n",
      "M1L         Scarborough                  Golden Mile, Clairlea, Oakridge\n",
      "M1M         Scarborough  Cliffside, Cliffcrest, Scarborough Village West\n",
      "M1N         Scarborough                      Birch Cliff, Cliffside West\n",
      "\n",
      "\n",
      "This dataframe is 103 long\n"
     ]
    }
   ],
   "source": [
    "# Library imports\n",
    "import pandas as pd\n",
    "import requests\n",
    "from bs4 import BeautifulSoup\n",
    "import matplotlib.cm as cm \n",
    "import matplotlib.colors as colors\n",
    "import numpy as np\n",
    "import folium\n",
    "\n",
    "#Web scrapping\n",
    "res = requests.get(\"https://en.wikipedia.org/wiki/List_of_postal_codes_of_Canada:_M\")\n",
    "soup = BeautifulSoup(res.content,'lxml')\n",
    "table = soup.find_all('table')[0] \n",
    "df = pd.read_html(str(table))[0]\n",
    "\n",
    "#Drop nan values\n",
    "df.dropna(subset = ['Neighborhood'], inplace = True)\n",
    "\n",
    "#Replace / by ,\n",
    "df['Neighborhood'] = df['Neighborhood'].str.replace(\" /\", \",\")\n",
    "\n",
    "#Setup index values\n",
    "df.sort_values(by=['Postalcode'], ascending=True, inplace=True)\n",
    "df.set_index('Postalcode', inplace = True)\n",
    "\n",
    "print(df.head(10))\n",
    "print('\\n')\n",
    "print((\"This dataframe is {} long\").format(df.shape[0]))"
   ]
  },
  {
   "cell_type": "markdown",
   "metadata": {},
   "source": [
    "Attempt to retrieve coordinates using Geodecoder. Failed attempt, so data provided in the course is used."
   ]
  },
  {
   "cell_type": "code",
   "execution_count": null,
   "metadata": {},
   "outputs": [],
   "source": [
    "# import geocoder\n",
    "import geocoder\n",
    "\n",
    "# initialize variable to None\n",
    "lat_lng_coords = None\n",
    "postal_code = \"M3A\"\n",
    "\n",
    "# loop until you get the coordinates\n",
    "while(lat_lng_coords is None):\n",
    "  g = geocoder.google('{}, Toronto'.format(postal_code))\n",
    "  lat_lng_coords = g.latlng\n",
    "\n",
    "latitude = lat_lng_coords[0]\n",
    "longitude = lat_lng_coords[1] \n",
    "print(latitude, longitude)"
   ]
  },
  {
   "cell_type": "markdown",
   "metadata": {},
   "source": [
    "Using Geospatial_Coordinates.csv file"
   ]
  },
  {
   "cell_type": "code",
   "execution_count": 33,
   "metadata": {},
   "outputs": [
    {
     "name": "stdout",
     "output_type": "stream",
     "text": [
      "             Latitude  Longitude\n",
      "Postalcode                      \n",
      "M1B         43.806686 -79.194353\n",
      "M1C         43.784535 -79.160497\n",
      "M1E         43.763573 -79.188711\n",
      "M1G         43.770992 -79.216917\n",
      "M1H         43.773136 -79.239476\n",
      "(103, 2)\n"
     ]
    }
   ],
   "source": [
    "# fetching de file from a local folder\n",
    "df_coor = pd.read_csv('Geospatial_Coordinates.csv', header=0, names=['Postal Code', 'Latitude', 'Longitude'], index_col=False )\n",
    "\n",
    "# setting up de index\n",
    "df_coor.sort_values(by=['Postal Code'], ascending=True, inplace=True)\n",
    "df_coor.set_index('Postal Code', inplace = True)\n",
    "df_coor.index.name = 'Postalcode'\n",
    "\n",
    "print(df_coor.head())\n",
    "print(df_coor.shape)"
   ]
  },
  {
   "cell_type": "markdown",
   "metadata": {},
   "source": [
    "Merging both dataframe"
   ]
  },
  {
   "cell_type": "code",
   "execution_count": 34,
   "metadata": {},
   "outputs": [
    {
     "data": {
      "text/html": [
       "<div>\n",
       "<style scoped>\n",
       "    .dataframe tbody tr th:only-of-type {\n",
       "        vertical-align: middle;\n",
       "    }\n",
       "\n",
       "    .dataframe tbody tr th {\n",
       "        vertical-align: top;\n",
       "    }\n",
       "\n",
       "    .dataframe thead th {\n",
       "        text-align: right;\n",
       "    }\n",
       "</style>\n",
       "<table border=\"1\" class=\"dataframe\">\n",
       "  <thead>\n",
       "    <tr style=\"text-align: right;\">\n",
       "      <th></th>\n",
       "      <th>Borough</th>\n",
       "      <th>Neighborhood</th>\n",
       "      <th>Latitude</th>\n",
       "      <th>Longitude</th>\n",
       "    </tr>\n",
       "    <tr>\n",
       "      <th>Postalcode</th>\n",
       "      <th></th>\n",
       "      <th></th>\n",
       "      <th></th>\n",
       "      <th></th>\n",
       "    </tr>\n",
       "  </thead>\n",
       "  <tbody>\n",
       "    <tr>\n",
       "      <th>M1B</th>\n",
       "      <td>Scarborough</td>\n",
       "      <td>Malvern, Rouge</td>\n",
       "      <td>43.806686</td>\n",
       "      <td>-79.194353</td>\n",
       "    </tr>\n",
       "    <tr>\n",
       "      <th>M1C</th>\n",
       "      <td>Scarborough</td>\n",
       "      <td>Rouge Hill, Port Union, Highland Creek</td>\n",
       "      <td>43.784535</td>\n",
       "      <td>-79.160497</td>\n",
       "    </tr>\n",
       "    <tr>\n",
       "      <th>M1E</th>\n",
       "      <td>Scarborough</td>\n",
       "      <td>Guildwood, Morningside, West Hill</td>\n",
       "      <td>43.763573</td>\n",
       "      <td>-79.188711</td>\n",
       "    </tr>\n",
       "    <tr>\n",
       "      <th>M1G</th>\n",
       "      <td>Scarborough</td>\n",
       "      <td>Woburn</td>\n",
       "      <td>43.770992</td>\n",
       "      <td>-79.216917</td>\n",
       "    </tr>\n",
       "    <tr>\n",
       "      <th>M1H</th>\n",
       "      <td>Scarborough</td>\n",
       "      <td>Cedarbrae</td>\n",
       "      <td>43.773136</td>\n",
       "      <td>-79.239476</td>\n",
       "    </tr>\n",
       "  </tbody>\n",
       "</table>\n",
       "</div>"
      ],
      "text/plain": [
       "                Borough                            Neighborhood   Latitude  \\\n",
       "Postalcode                                                                   \n",
       "M1B         Scarborough                          Malvern, Rouge  43.806686   \n",
       "M1C         Scarborough  Rouge Hill, Port Union, Highland Creek  43.784535   \n",
       "M1E         Scarborough       Guildwood, Morningside, West Hill  43.763573   \n",
       "M1G         Scarborough                                  Woburn  43.770992   \n",
       "M1H         Scarborough                               Cedarbrae  43.773136   \n",
       "\n",
       "            Longitude  \n",
       "Postalcode             \n",
       "M1B        -79.194353  \n",
       "M1C        -79.160497  \n",
       "M1E        -79.188711  \n",
       "M1G        -79.216917  \n",
       "M1H        -79.239476  "
      ]
     },
     "execution_count": 34,
     "metadata": {},
     "output_type": "execute_result"
    }
   ],
   "source": [
    "res = pd.merge(df, df_coor, on='Postalcode')\n",
    "res.head(5)"
   ]
  }
 ],
 "metadata": {
  "kernelspec": {
   "display_name": "Python 3",
   "language": "python",
   "name": "python3"
  },
  "language_info": {
   "codemirror_mode": {
    "name": "ipython",
    "version": 3
   },
   "file_extension": ".py",
   "mimetype": "text/x-python",
   "name": "python",
   "nbconvert_exporter": "python",
   "pygments_lexer": "ipython3",
   "version": "3.7.6"
  }
 },
 "nbformat": 4,
 "nbformat_minor": 4
}
